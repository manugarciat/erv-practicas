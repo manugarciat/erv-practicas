{
 "cells": [
  {
   "cell_type": "markdown",
   "source": [
    "### Trabajo Práctico Final - ERV \n",
    "## Detección de fallas en neumáticos\n",
    "**Alumno:** Manuel García Tornadú\n",
    "\n",
    "La idea del trabajo es replicar los procedimientos para la detección de fallas en neumáticos usados en el paper **\"Tire appearance defect detection method via combining HOG and LBP features\"** escrito por Hongbin Liu, Xinghao Jia, Chenhui Su, Hongjuan Yang and Chengdong Li\n"
   ],
   "metadata": {
    "collapsed": false
   },
   "id": "4e76298018d14c76"
  },
  {
   "cell_type": "code",
   "execution_count": 20,
   "outputs": [],
   "source": [
    "import os\n",
    "import os.path\n",
    "from pathlib import Path\n",
    "import numpy as np\n",
    "from PIL import Image\n",
    "import matplotlib.pyplot as plt"
   ],
   "metadata": {
    "collapsed": false,
    "ExecuteTime": {
     "end_time": "2023-12-10T15:48:44.770760Z",
     "start_time": "2023-12-10T15:48:44.767462Z"
    }
   },
   "id": "abbb84bdd8967fcd"
  },
  {
   "cell_type": "markdown",
   "source": [
    "## Procesamiento de imágenes"
   ],
   "metadata": {
    "collapsed": false
   },
   "id": "7a31e2796cbf54f1"
  },
  {
   "cell_type": "code",
   "execution_count": 57,
   "outputs": [],
   "source": [
    "#carpetas de ubicación del dataset\n",
    "carpeta_entrenamiento_normal = Path('./training_data/normal')\n",
    "carpeta_entrenamiento_cracked = Path('./training_data/cracked')\n",
    "carpeta_test_normal = Path('./testing_data/normal')\n",
    "carpeta_test_cracked = Path('./testing_data/cracked')"
   ],
   "metadata": {
    "collapsed": false,
    "ExecuteTime": {
     "end_time": "2023-12-10T21:09:43.201991Z",
     "start_time": "2023-12-10T21:09:43.198856Z"
    }
   },
   "id": "cf159094f720152e"
  },
  {
   "cell_type": "markdown",
   "source": [
    "#### Funciones para el procesamiento de imágenes:"
   ],
   "metadata": {
    "collapsed": false
   },
   "id": "abdea9f2eba3fb42"
  },
  {
   "cell_type": "code",
   "execution_count": 67,
   "outputs": [],
   "source": [
    "#Cambia la imagen a escala de grises con los parámteros que se usan en el paper\n",
    "def pasa_a_escala_de_gris(imagen):\n",
    "    img = np.array(imagen)\n",
    "    return np.int8(img[:, :, 0] * 0.299 + img[:, :, 1] * 0.587 + img[:, :, 2] * 0.144)\n",
    "\n",
    "\n",
    "# Modifica el tamaño de la imagen usando el método de interpolación bilinear usado en el paper\n",
    "def cambia_dimension(imagen, dimension):\n",
    "    imagen_escalada = imagen.resize((dimension, dimension), Image.BILINEAR)\n",
    "    return imagen_escalada\n",
    "\n",
    "\n",
    "# Procesa toda una carpeta de imagenes: las pasa a escala de gris y luego reduce el tamaño al pasado por parámetro.\n",
    "# Guarda las imagenes en una carpeta y devuelve la ruta de la misma\n",
    "def procesa_imagenes(carpeta, dim):\n",
    "    lista_nombres = list(carpeta.glob(r\"*.jpg\"))\n",
    "    nombre_carpeta = \"procesados_\" + str(dim)\n",
    "    carpeta_procesados = carpeta / nombre_carpeta\n",
    "    carpeta_procesados.mkdir(exist_ok=True)\n",
    "    i = 0\n",
    "    for ruta_imagen in lista_nombres:\n",
    "        img = Image.open(ruta_imagen)\n",
    "        if img.mode != 'L':\n",
    "            imagen_array = pasa_a_escala_de_gris(img)\n",
    "            imagen_escalada = cambia_dimension(Image.fromarray(imagen_array, 'L'), dim)\n",
    "        else:\n",
    "            imagen_escalada = cambia_dimension(img, dim)\n",
    "        nombre_archivo = \"imagen_\" + str(i) + \".png\"\n",
    "        imagen_escalada.save(carpeta_procesados / nombre_archivo)\n",
    "        i += 1\n",
    "    return carpeta_procesados\n",
    "\n"
   ],
   "metadata": {
    "collapsed": false,
    "ExecuteTime": {
     "end_time": "2023-12-10T21:42:16.770633Z",
     "start_time": "2023-12-10T21:42:16.757647Z"
    }
   },
   "id": "2cfa2d16b8649138"
  },
  {
   "cell_type": "code",
   "execution_count": 66,
   "outputs": [],
   "source": [
    "carpeta_entrenamiento_normal_procesados = procesa_imagenes(carpeta_entrenamiento_normal, 64)\n",
    "carpeta_entrenamiento_cracked_procesados = procesa_imagenes(carpeta_entrenamiento_cracked, 64)\n",
    "carpeta_test_normal_procesados = procesa_imagenes(carpeta_test_normal, 64)\n",
    "carpeta_test_cracked_procesados = procesa_imagenes(carpeta_test_cracked, 64)"
   ],
   "metadata": {
    "collapsed": false,
    "ExecuteTime": {
     "end_time": "2023-12-10T21:42:00.817561Z",
     "start_time": "2023-12-10T21:40:37.034027Z"
    }
   },
   "id": "454b0e1a18a600a"
  },
  {
   "cell_type": "code",
   "execution_count": 70,
   "outputs": [],
   "source": [
    "# Carpetas con imagenes ya procesadas:\n",
    "entrenamiento_normal_procesados = Path('./training_data/normal/procesados_64')\n",
    "entrenamiento_cracked_procesados = Path('./training_data/cracked/procesados_64')\n",
    "test_normal_procesados = Path('./testing_data/normal/procesados_64')\n",
    "test_cracked_procesados = Path('./testing_data/cracked/procesados_64')"
   ],
   "metadata": {
    "collapsed": false,
    "ExecuteTime": {
     "end_time": "2023-12-10T21:46:13.008731Z",
     "start_time": "2023-12-10T21:46:13.002257Z"
    }
   },
   "id": "e23d673aa4788d25"
  },
  {
   "cell_type": "code",
   "execution_count": null,
   "outputs": [],
   "source": [],
   "metadata": {
    "collapsed": false
   },
   "id": "e992f5acec577955"
  }
 ],
 "metadata": {
  "kernelspec": {
   "display_name": "Python 3",
   "language": "python",
   "name": "python3"
  },
  "language_info": {
   "codemirror_mode": {
    "name": "ipython",
    "version": 2
   },
   "file_extension": ".py",
   "mimetype": "text/x-python",
   "name": "python",
   "nbconvert_exporter": "python",
   "pygments_lexer": "ipython2",
   "version": "2.7.6"
  }
 },
 "nbformat": 4,
 "nbformat_minor": 5
}
